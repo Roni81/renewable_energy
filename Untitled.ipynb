{
 "cells": [
  {
   "cell_type": "code",
   "execution_count": 8,
   "id": "d76078d5",
   "metadata": {},
   "outputs": [
    {
     "name": "stdout",
     "output_type": "stream",
     "text": [
      "First Number : 3\n",
      "Second Number : 6\n"
     ]
    },
    {
     "data": {
      "text/plain": [
       "9"
      ]
     },
     "execution_count": 8,
     "metadata": {},
     "output_type": "execute_result"
    }
   ],
   "source": [
    "a = int(input('First Number : '))\n",
    "b = int(input('Second Number : '))\n",
    "a+b"
   ]
  },
  {
   "cell_type": "code",
   "execution_count": 1,
   "id": "e0ed67da",
   "metadata": {},
   "outputs": [
    {
     "name": "stdout",
     "output_type": "stream",
     "text": [
      "4 5\n",
      "4 < 5\n"
     ]
    }
   ],
   "source": [
    "a, b = map(int, input().split(\" \"))\n",
    "if a > b:\n",
    "    print(a, '>', b)\n",
    "elif a < b :\n",
    "    print(a, '<', b)\n",
    "else  : print(a, '==', b)"
   ]
  },
  {
   "cell_type": "code",
   "execution_count": 17,
   "id": "83d62e39",
   "metadata": {},
   "outputs": [
    {
     "name": "stdout",
     "output_type": "stream",
     "text": [
      "95\n",
      "학점은 : A\n"
     ]
    }
   ],
   "source": [
    "a = int(input())\n",
    "if 90 <= a < 100:\n",
    "    print(\"학점은 : A\")\n",
    "elif 80 <= a <90:\n",
    "    print(\"학점은 : B\")\n",
    "elif 70 <= a <80:\n",
    "    print(\"학점은 : C\")\n",
    "else:\n",
    "    print(\"낙제 입니다\")"
   ]
  },
  {
   "cell_type": "code",
   "execution_count": 4,
   "id": "3b1086ce",
   "metadata": {},
   "outputs": [
    {
     "name": "stdout",
     "output_type": "stream",
     "text": [
      "년도를 입력하세요 : 2012\n",
      "1\n"
     ]
    }
   ],
   "source": [
    "year = int(input('년도를 입력하세요 : '))\n",
    "if year%4 == 0 and year%100 != 0 or year%400 == 0:\n",
    "    print(\"1\")\n",
    "else :\n",
    "    print(\"0\")"
   ]
  },
  {
   "cell_type": "code",
   "execution_count": 7,
   "id": "9d0af3ac",
   "metadata": {},
   "outputs": [
    {
     "name": "stdout",
     "output_type": "stream",
     "text": [
      "9 -14\n",
      "Q4\n"
     ]
    }
   ],
   "source": [
    "a, b = map(int, input().split(\" \"))\n",
    "if a*b > 0 :\n",
    "    if a > 0:\n",
    "        print(\"Q1\")\n",
    "    elif a < 0:\n",
    "        print(\"Q3\")\n",
    "if a*b < 0 :\n",
    "    if a > 0:\n",
    "        print('Q4')\n",
    "    elif a < 0:\n",
    "        print('Q2')\n",
    "if a*b == 0:\n",
    "    print('On the Axis')\n",
    "    \n",
    "   "
   ]
  },
  {
   "cell_type": "code",
   "execution_count": 31,
   "id": "0972e03c",
   "metadata": {},
   "outputs": [
    {
     "name": "stdout",
     "output_type": "stream",
     "text": [
      "10:45\n",
      "10 : 0\n"
     ]
    }
   ],
   "source": [
    "a, b = map(int, input().split(\":\"))\n",
    "if b < 45 and a == 0:\n",
    "    print(\"23\",\":\",15+b)\n",
    "elif b < 45 and a >=1:\n",
    "    print(a-1,\":\", 60+(b-45))\n",
    "elif b >= 45:\n",
    "    print(a,\":\",b-45)\n",
    "    "
   ]
  },
  {
   "cell_type": "code",
   "execution_count": 37,
   "id": "193100b7",
   "metadata": {},
   "outputs": [
    {
     "name": "stdout",
     "output_type": "stream",
     "text": [
      "3\n",
      "3 x 1 = 3\n",
      "3 x 2 = 6\n",
      "3 x 3 = 9\n",
      "3 x 4 = 12\n",
      "3 x 5 = 15\n",
      "3 x 6 = 18\n",
      "3 x 7 = 21\n",
      "3 x 8 = 24\n",
      "3 x 9 = 27\n"
     ]
    }
   ],
   "source": [
    "a = int(input())\n",
    "for i in range(1,10):\n",
    "    print(a,\"x\",i,'=',a*i)"
   ]
  },
  {
   "cell_type": "code",
   "execution_count": 41,
   "id": "b81a51e4",
   "metadata": {},
   "outputs": [
    {
     "name": "stdout",
     "output_type": "stream",
     "text": [
      "23 50\n",
      "50\n",
      "0 : 40\n"
     ]
    }
   ],
   "source": [
    "h, m = map(int, input().split())\n",
    "time = int(input())\n",
    "if h+((time+m)//60) >= 24:\n",
    "    print(h+((time+m)//60)-24,\":\",(time+m)%60)\n",
    "else:\n",
    "    print(h+((time+m)//60),\":\",(time+m)%60)"
   ]
  },
  {
   "cell_type": "code",
   "execution_count": 43,
   "id": "dafa7a78",
   "metadata": {},
   "outputs": [
    {
     "name": "stdout",
     "output_type": "stream",
     "text": [
      "5\n",
      "3 5\n",
      "8\n",
      "4 5\n",
      "9\n",
      "6 4\n",
      "10\n",
      "100 200\n",
      "300\n",
      "400 100000\n",
      "100400\n"
     ]
    }
   ],
   "source": [
    "a = int(input())\n",
    "for i in range(0,a):\n",
    "    b, c = map(int, input().split(\" \"))\n",
    "    print(b+c)\n"
   ]
  },
  {
   "cell_type": "code",
   "execution_count": 46,
   "id": "02349d27",
   "metadata": {},
   "outputs": [
    {
     "name": "stdout",
     "output_type": "stream",
     "text": [
      "3\n",
      "6\n"
     ]
    }
   ],
   "source": [
    "n = int(input())\n",
    "t = (1+n)*(n//2)\n",
    "if n % 2 == 0:\n",
    "    print(t)\n",
    "else:\n",
    "    print(t+((n//2)+1))"
   ]
  },
  {
   "cell_type": "code",
   "execution_count": 51,
   "id": "b24e1dcb",
   "metadata": {},
   "outputs": [
    {
     "name": "stdout",
     "output_type": "stream",
     "text": [
      "26000\n",
      "4\n",
      "2000 5\n",
      "3000 2\n",
      "1000 6\n",
      "500 8\n",
      "Yes\n"
     ]
    }
   ],
   "source": [
    "n = int(input())\n",
    "a = int(input())\n",
    "d = 0\n",
    "for i in range(0,a):\n",
    "    b, c = map(int, input().split(\" \"))\n",
    "    d = d+(b*c)\n",
    "if n == d:\n",
    "    print(\"Yes\")\n",
    "else:\n",
    "    print(\"No\")"
   ]
  },
  {
   "cell_type": "code",
   "execution_count": 62,
   "id": "b638e1f8",
   "metadata": {},
   "outputs": [],
   "source": [
    "import sys\n",
    "lines = sys.stdin.readlines()\n",
    "for i in lines:\n",
    "    b, c = map(int, line.split())\n",
    "    print(b+c)"
   ]
  },
  {
   "cell_type": "code",
   "execution_count": 52,
   "id": "c9d8f6fa",
   "metadata": {},
   "outputs": [],
   "source": [
    "import sys"
   ]
  },
  {
   "cell_type": "code",
   "execution_count": 55,
   "id": "fd67f8e7",
   "metadata": {},
   "outputs": [
    {
     "name": "stdout",
     "output_type": "stream",
     "text": [
      "명령행 인자:\n",
      "C:\\Users\\user\\anaconda3\\Lib\\site-packages\\ipykernel_launcher.py\n",
      "-f\n",
      "C:\\Users\\user\\AppData\\Roaming\\jupyter\\runtime\\kernel-1aae5d90-8d90-4064-86d0-62d43c5e4519.json\n"
     ]
    }
   ],
   "source": [
    "print(\"명령행 인자:\")\n",
    "for arg in sys.argv:\n",
    "    print(arg)"
   ]
  },
  {
   "cell_type": "code",
   "execution_count": null,
   "id": "7f652860",
   "metadata": {},
   "outputs": [],
   "source": []
  }
 ],
 "metadata": {
  "kernelspec": {
   "display_name": "Python 3 (ipykernel)",
   "language": "python",
   "name": "python3"
  },
  "language_info": {
   "codemirror_mode": {
    "name": "ipython",
    "version": 3
   },
   "file_extension": ".py",
   "mimetype": "text/x-python",
   "name": "python",
   "nbconvert_exporter": "python",
   "pygments_lexer": "ipython3",
   "version": "3.11.4"
  }
 },
 "nbformat": 4,
 "nbformat_minor": 5
}
